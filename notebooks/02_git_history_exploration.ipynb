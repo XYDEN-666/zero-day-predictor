{
 "cells": [
  {
   "cell_type": "code",
   "execution_count": null,
   "id": "9f298d46-0b63-4f14-8168-b3935dba9ba0",
   "metadata": {},
   "outputs": [],
   "source": []
  },
  {
   "cell_type": "code",
   "execution_count": 8,
   "id": "50d158d3-84e9-432e-a5dc-abbf64b4383a",
   "metadata": {},
   "outputs": [
    {
     "name": "stdout",
     "output_type": "stream",
     "text": [
      "Initial Current Working Directory: D:\\Work\\zero_day_predictor\n",
      "\n",
      "--- Running Diagnostics ---\n",
      "Project Root is: D:\\Work\\zero_day_predictor\n",
      "Targeting repository at: D:\\Work\\zero_day_predictor\\data\\01_raw\\repositories\\redis\n",
      "✅ Repository opened successfully.\n",
      "\n",
      "Available branches in this repository:\n",
      "['unstable']\n",
      "\n",
      "Attempting to get latest commit from branch: 'unstable'...\n",
      "\n",
      "✅ Successfully found commit.\n",
      "   Target file for analysis: src/server.c\n",
      "   Analysis will run up to commit: 66b3d2d98e\n"
     ]
    }
   ],
   "source": [
    "# ===================================================================\n",
    "# CELL 1: SETUP, PATH CORRECTION, AND REPOSITORY DIAGNOSTICS\n",
    "# ===================================================================\n",
    "\n",
    "import os\n",
    "import git\n",
    "import pandas as pd\n",
    "from IPython.display import display\n",
    "\n",
    "# --- Part 1: Path Correction ---\n",
    "print(f\"Initial Current Working Directory: {os.getcwd()}\")\n",
    "if os.path.basename(os.getcwd()) == 'notebooks':\n",
    "    os.chdir('..')\n",
    "    print(f\"Changed directory to project root: {os.getcwd()}\")\n",
    "\n",
    "# --- Part 2: Configuration ---\n",
    "PROJECT_ROOT = os.getcwd()\n",
    "REPO_NAME = 'redis'\n",
    "REPO_PATH = os.path.join(PROJECT_ROOT, 'data', '01_raw', 'repositories', REPO_NAME)\n",
    "TARGET_FILE = 'src/server.c' \n",
    "TARGET_BRANCH = 'unstable' \n",
    "\n",
    "# --- Part 3: Import Custom Modules ---\n",
    "from feature_extraction.repo_metrics import get_file_history_metrics\n",
    "\n",
    "# --- Part 4: Diagnostics ---\n",
    "print(f\"\\n--- Running Diagnostics ---\")\n",
    "print(f\"Project Root is: {PROJECT_ROOT}\")\n",
    "print(f\"Targeting repository at: {REPO_PATH}\")\n",
    "\n",
    "# --- A) Check if the repository can be opened ---\n",
    "try:\n",
    "    repo = git.Repo(REPO_PATH)\n",
    "    print(\"✅ Repository opened successfully.\")\n",
    "except Exception as e:\n",
    "    print(f\"---!!! FATAL ERROR !!!---\")\n",
    "    print(f\"Could not open the repository. Error: {e}\")\n",
    "    repo = None\n",
    "\n",
    "if repo:\n",
    "    # --- B) List available branches for user ---\n",
    "    print(\"\\nAvailable branches in this repository:\")\n",
    "    try:\n",
    "        branches = [b.name for b in repo.branches]\n",
    "        print(branches)\n",
    "    except Exception as e:\n",
    "        print(f\"Could not list branches. Error: {e}\")\n",
    "\n",
    "    # --- C) Try to get the specific commit ---\n",
    "    print(f\"\\nAttempting to get latest commit from branch: '{TARGET_BRANCH}'...\")\n",
    "    try:\n",
    "        target_commit = repo.commit(TARGET_BRANCH)\n",
    "        commit_hash = target_commit.hexsha\n",
    "        print(\"\\n✅ Successfully found commit.\")\n",
    "        print(f\"   Target file for analysis: {TARGET_FILE}\")\n",
    "        print(f\"   Analysis will run up to commit: {commit_hash[:10]}\")\n",
    "    except git.exc.BadName:\n",
    "        print(f\"\\n---!!! ACTION REQUIRED !!!---\")\n",
    "        print(f\"ERROR: The branch named '{TARGET_BRANCH}' does not exist in this repository.\")\n",
    "        print(\"Please look at the 'Available branches' list and change the TARGET_BRANCH variable in this cell.\")\n",
    "    except Exception as e:\n",
    "        print(f\"An unexpected error occurred: {e}\")"
   ]
  },
  {
   "cell_type": "code",
   "execution_count": 9,
   "id": "6fc2cfe6",
   "metadata": {},
   "outputs": [
    {
     "name": "stdout",
     "output_type": "stream",
     "text": [
      "\n",
      "Successfully calculated history metrics:\n",
      "- commit_count: 1014\n",
      "- author_count: 151\n",
      "- lines_added: 10801\n",
      "- lines_deleted: 20417\n",
      "- days_since_first_commit: 3609\n",
      "- days_since_last_commit: 8\n"
     ]
    }
   ],
   "source": [
    "# Step 2: Run the History Analysis\n",
    "# Now we call our new function. It will traverse the Git history for `src/server.c`,\n",
    "# calculate the metrics, and return them as a dictionary.\n",
    "\n",
    "if 'commit_hash' in locals():\n",
    "    history_metrics = get_file_history_metrics(REPO_PATH, TARGET_FILE, commit_hash)\n",
    "    \n",
    "    if history_metrics:\n",
    "        print(\"\\nSuccessfully calculated history metrics:\")\n",
    "        # Pretty print the dictionary\n",
    "        for key, value in history_metrics.items():\n",
    "            print(f\"- {key}: {value}\")\n",
    "    else:\n",
    "        print(f\"\\nCould not calculate metrics for {TARGET_FILE}. It might not exist at this commit or an error occurred.\")"
   ]
  },
  {
   "cell_type": "code",
   "execution_count": null,
   "id": "a64b07e5",
   "metadata": {},
   "outputs": [],
   "source": [
    "# Step 3: Analyze Another File for Comparison\n",
    "# Let's analyze a different file, maybe a less central one, to see how the metrics differ.\n",
    "# `src/crc64.c` is a utility file for calculating checksums.\n",
    "\n",
    "TARGET_FILE_2 = 'src/crc64.c'\n",
    "print(f\"\\n--- Analyzing second file: {TARGET_FILE_2} ---\")\n",
    "\n",
    "if 'commit_hash' in locals():\n",
    "    history_metrics_2 = get_file_history_metrics(REPO_PATH, TARGET_FILE_2, commit_hash)\n",
    "\n",
    "    if history_metrics_2:\n",
    "        print(\"\\nSuccessfully calculated history metrics:\")\n",
    "        for key, value in history_metrics_2.items():\n",
    "            print(f\"- {key}: {value}\")\n",
    "    else:\n",
    "        print(f\"\\nCould not calculate metrics for {TARGET_FILE_2}.\")"
   ]
  },
  {
   "cell_type": "code",
   "execution_count": 7,
   "id": "679252bd",
   "metadata": {},
   "outputs": [
    {
     "ename": "SyntaxError",
     "evalue": "unterminated string literal (detected at line 5) (3932515958.py, line 5)",
     "output_type": "error",
     "traceback": [
      "  \u001b[36mCell\u001b[39m\u001b[36m \u001b[39m\u001b[32mIn[7]\u001b[39m\u001b[32m, line 5\u001b[39m\n\u001b[31m    \u001b[39m\u001b[31mThis indicates it is a more central, \"hot\" part of the codebase. Our hypothesis is that such files are more likely to contain vulnerabilities. We have now successfully extracted these signals from the repository's history.\u001b[39m\n                                                                                                                                                                                                                       ^\n\u001b[31mSyntaxError\u001b[39m\u001b[31m:\u001b[39m unterminated string literal (detected at line 5)\n"
     ]
    }
   ],
   "source": [
    "### Conclusion\n",
    "\n",
    "Comparing the two files, you will likely see that `src/server.c` has a much higher `commit_count`, `author_count`, and `lines_added`/`deleted` than `src/crc64.c`. \n",
    "\n",
    "This indicates it is a more central, \"hot\" part of the codebase. Our hypothesis is that such files are more likely to contain vulnerabilities. We have now successfully extracted these signals from the repository's history."
   ]
  },
  {
   "cell_type": "code",
   "execution_count": null,
   "id": "b735c143-9c88-41a6-bbe7-12c2b87e5117",
   "metadata": {},
   "outputs": [],
   "source": []
  },
  {
   "cell_type": "code",
   "execution_count": null,
   "id": "ff20e6fa-20da-4c4b-9c6a-6b7a088d00a8",
   "metadata": {},
   "outputs": [],
   "source": []
  },
  {
   "cell_type": "code",
   "execution_count": null,
   "id": "b9929d48-3fba-4f03-96d0-7581d860f904",
   "metadata": {},
   "outputs": [],
   "source": []
  },
  {
   "cell_type": "code",
   "execution_count": null,
   "id": "fd675b85-f33c-4f97-8fe6-a38418db3e4f",
   "metadata": {},
   "outputs": [],
   "source": []
  }
 ],
 "metadata": {
  "jupytext": {
   "cell_metadata_filter": "-all",
   "main_language": "python",
   "notebook_metadata_filter": "-all"
  },
  "kernelspec": {
   "display_name": "Python 3 (ipykernel)",
   "language": "python",
   "name": "python3"
  },
  "language_info": {
   "codemirror_mode": {
    "name": "ipython",
    "version": 3
   },
   "file_extension": ".py",
   "mimetype": "text/x-python",
   "name": "python",
   "nbconvert_exporter": "python",
   "pygments_lexer": "ipython3",
   "version": "3.12.10"
  }
 },
 "nbformat": 4,
 "nbformat_minor": 5
}
