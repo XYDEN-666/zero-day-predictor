{
 "cells": [
  {
   "cell_type": "markdown",
   "id": "92edcc47",
   "metadata": {},
   "source": [
    "# Week 4: Git History (Process Metrics) Exploration\n",
    "\n",
    "**Goal:** Test our `repo_metrics` module to extract historical data like churn, author count, and age for specific files."
   ]
  },
  {
   "cell_type": "code",
   "execution_count": null,
   "id": "69f4b50e",
   "metadata": {},
   "outputs": [],
   "source": [
    "import os\n",
    "import git\n",
    "import pandas as pd\n",
    "from IPython.display import display\n",
    "\n",
    "# Because we did `pip install -e .`, Python now knows where to find our modules.\n",
    "from feature_extraction.repo_metrics import get_file_history_metrics\n",
    "\n",
    "# --- Configuration ---\n",
    "REPO_NAME = 'redis'\n",
    "\n",
    "PROJECT_ROOT = os.path.abspath(os.path.join(os.path.dirname(__file__), '..'))\n",
    "REPO_PATH = os.path.join(PROJECT_ROOT, 'data', '01_raw', 'repositories', REPO_NAME)\n",
    "print(f\"Using repository at: {REPO_PATH}\")"
   ]
  },
  {
   "cell_type": "markdown",
   "id": "fc3fedab",
   "metadata": {},
   "source": [
    "### Step 1: Select a Target File and Commit\n",
    "\n",
    "We'll pick an important, long-lived file from the Redis project, like `src/server.c`. We'll also pick the same commit hash we used last week to represent our \"snapshot in time\"."
   ]
  },
  {
   "cell_type": "code",
   "execution_count": null,
   "id": "ba578c1f",
   "metadata": {},
   "outputs": [],
   "source": [
    "# The main server file, a core component of Redis\n",
    "TARGET_FILE = 'src/server.c'\n",
    "\n",
    "try:\n",
    "    repo = git.Repo(REPO_PATH)\n",
    "    # Use the same commit as last week for consistency\n",
    "    target_commit = repo.commit('unstable')\n",
    "    commit_hash = target_commit.hexsha\n",
    "    print(f\"Target file: {TARGET_FILE}\")\n",
    "    print(f\"Analysis will run up to commit: {commit_hash[:10]}\")\n",
    "except Exception as e:\n",
    "    print(f\"Error accessing repo at {REPO_PATH}: {e}\")"
   ]
  },
  {
   "cell_type": "markdown",
   "id": "e29107fd",
   "metadata": {},
   "source": [
    "### Step 2: Run the History Analysis\n",
    "\n",
    "Now we call our new function. It will traverse the Git history for `src/server.c`, calculate the metrics, and return them as a dictionary."
   ]
  },
  {
   "cell_type": "code",
   "execution_count": null,
   "id": "41d20054",
   "metadata": {},
   "outputs": [],
   "source": [
    "if 'commit_hash' in locals():\n",
    "    history_metrics = get_file_history_metrics(REPO_PATH, TARGET_FILE, commit_hash)\n",
    "    \n",
    "    if history_metrics:\n",
    "        print(\"\\nSuccessfully calculated history metrics:\")\n",
    "        # Pretty print the dictionary\n",
    "        for key, value in history_metrics.items():\n",
    "            print(f\"- {key}: {value}\")\n",
    "    else:\n",
    "        print(f\"\\nCould not calculate metrics for {TARGET_FILE}. It might not exist at this commit or an error occurred.\")"
   ]
  },
  {
   "cell_type": "markdown",
   "id": "d6c89ca1",
   "metadata": {},
   "source": [
    "### Step 3: Analyze Another File for Comparison\n",
    "\n",
    "Let's analyze a different file, maybe a less central one, to see how the metrics differ. `src/crc64.c` is a utility file for calculating checksums."
   ]
  },
  {
   "cell_type": "code",
   "execution_count": null,
   "id": "dc517d82",
   "metadata": {},
   "outputs": [],
   "source": [
    "TARGET_FILE_2 = 'src/crc64.c'\n",
    "print(f\"\\n--- Analyzing second file: {TARGET_FILE_2} ---\")\n",
    "\n",
    "if 'commit_hash' in locals():\n",
    "    history_metrics_2 = get_file_history_metrics(REPO_PATH, TARGET_FILE_2, commit_hash)\n",
    "\n",
    "    if history_metrics_2:\n",
    "        print(\"\\nSuccessfully calculated history metrics:\")\n",
    "        for key, value in history_metrics_2.items():\n",
    "            print(f\"- {key}: {value}\")\n",
    "    else:\n",
    "        print(f\"\\nCould not calculate metrics for {TARGET_FILE_2}.\")"
   ]
  },
  {
   "cell_type": "markdown",
   "id": "7b4c614e",
   "metadata": {},
   "source": [
    "### Conclusion\n",
    "\n",
    "Comparing the two files, you will likely see that `src/server.c` has a much higher `commit_count`, `author_count`, and `lines_added`/`deleted` than `src/crc64.c`. This indicates it is a more central, \"hot\" part of the codebase. Our hypothesis is that such files are more likely to contain vulnerabilities. We have now successfully extracted these signals."
   ]
  }
 ],
 "metadata": {
  "jupytext": {
   "cell_metadata_filter": "-all",
   "main_language": "python",
   "notebook_metadata_filter": "-all"
  }
 },
 "nbformat": 4,
 "nbformat_minor": 5
}
